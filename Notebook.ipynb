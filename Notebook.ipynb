{
 "cells": [
  {
   "attachments": {},
   "cell_type": "markdown",
   "metadata": {},
   "source": [
    "# Confronto tra Insertion Sort e Counting Sort\n",
    "\n",
    "## Scopo dell'esercizio.\n",
    "\n",
    "Lo scopo di questo notebook Jupyter è quello di implementare gli algoritmi insertion sort e counting sort al fine di verificare la correttezza di ciò che abbiamo studiato nel corso di Algoritmi e Strutture Dati.\n",
    "\n",
    "## Aspetti Teorici.\n",
    "\n",
    "Quelli che andremo a confrontare sarabbo 2 algoritmi di ordinamento. Con algoritmo di ordinamento si indende quell'algoritmo che risolve il problema computazionale di ordinare un insiemed di dati secondo un particolare criterio. In questo caso noi ordineremo numeri interi all'interno di array provenienti dal modulo numpy.\n",
    "\n",
    "### Insertion Sort\n",
    "L'Inserion Sort è uno degli aglortimi di ordinamento più semplici, ma anche uno dei meno efficenti. Questo è un algoritmo per confronto, ovvero ordina gli elemnti mediante confronti tra coppio di valori. La strategia utilizzata è quella di creare per iterazioni successivi un sottoinsieme ordinato sempre più grande, partendo da un unsieme vuoto fino all'intero array. Questa strategia può essere rissunta con il suo invariante di ciclo: \"Prima della i-esima iterazione gli elementi dell'array A[1, i] sono quelli presenti originariamente in quell'intervallo, ma ordinati\". Quello che volgiamo verificare di questo algoritmo è che presenti i seguenti costi asintotici:\n",
    "\n",
    "* **Caso migliore**: $\\theta(n)$\n",
    "* **Caso medio**: $O(n^2)$\n",
    "* **Caso peggiore**: $O(n^2)$\n",
    "\n",
    "### Counting Sort\n",
    "Il Counting sort è un algoritmo di ordinamento che non sfruta una strategia di controntro tra elementi, e quindi non è affetto dalla limitazione di avere un costo nel caso peggiore di $\\Omega(log(n)n)$. Questo algoritmo per ordinare gli elementi \"conta\" per ogni valore all'interno di un array quanti sono <= di quello, e grazie a questa informazione riesce a capire dove inserire l'elemento. Questo algoritmo però è limitato a poter ordinare solamente array di elementi naturali (oppure interi con leggere variazioni). Con queste premessi si ottiene che il costo asintotico di questo algoritmo è:\n",
    "* **Qualsiasi caso**: $\\theta(k + n)$\n",
    "In questo caso con k si intende il numero più grande presente nell'array (oppure la differenza tra il massimo e il minimo in alcune implementazioni)."
   ]
  },
  {
   "attachments": {},
   "cell_type": "markdown",
   "metadata": {},
   "source": [
    "## Descrizione del codice\n",
    "\n",
    "Nei seguenti blocchi si alterneranno tra codice e blocchi di testo, dove i secondi servono a dare delucidazioni sui primi.\n",
    "\n",
    "### Algoritmi di Ordinamento.\n",
    "\n",
    "Di seguito ci sono le implementazioni degli algoritmi precedentemente descritti, corredati da dei commenti che spiegano brevemente i significati degli argomenti che necessitano. Si è scelto di utilizzare gli array del modulo *numpy* per evitare che l'implementazione degli *array/liste* del Python potesse influire sull'effettiva esecuzione del codice.\n",
    "\n",
    "Di seguito è presentato il codice dell'**Insertion Sort**. Questa si tratta di una implementazione abbastanza standard di questo algoritmo."
   ]
  },
  {
   "cell_type": "code",
   "execution_count": 1,
   "metadata": {},
   "outputs": [],
   "source": [
    "import numpy as np\n",
    "\n",
    "def insertion_sort(A):\n",
    "    \"\"\"\n",
    "    A è l'array che deve ordinare, non che anche l'oggetto in cui verrà salvato il\n",
    "    risultato. \n",
    "    \"\"\"\n",
    "    length = A.size\n",
    "    for j in range(1, length):\n",
    "        key = A[j]\n",
    "        i = j - 1\n",
    "        while(i >= 0 and A[i] > key):\n",
    "            A[i + 1] = A[i]\n",
    "            i-= 1\n",
    "        A[i + 1] = key\n",
    "\n"
   ]
  },
  {
   "attachments": {},
   "cell_type": "markdown",
   "metadata": {},
   "source": [
    "Invece quello che si trova qua sotto è il codice del **Counting Sort**. Possimao notare come questo algoritmo non si serva di confronti a coppie dei valori all'interno dell'array, come abbiamo specificato nella parte torica. Come descritto nei commenti è anche necessario passare un array in cui inserire i valori ordinati e k (ovvero il numero massimo all'interno dell'array). Sarebbe possibile individuare questo numero all'interno della funzione stessa, ma questa richiederebbe un costo aggiuntivo per questa ricerca che non sarebbe strettamente propria dell'algoritmo."
   ]
  },
  {
   "cell_type": "code",
   "execution_count": 2,
   "metadata": {},
   "outputs": [],
   "source": [
    "def counting_sort(A, B, k):\n",
    "    \"\"\"\n",
    "    I parametri sono i seguenti:\n",
    "     -A è l'array da ordinare\n",
    "     -B è l'array in cui si inserirà il risultato\n",
    "     -k numero massimo di presente nell'array A \n",
    "    \"\"\"\n",
    "    length = A.size\n",
    "    C = np.zeros(k + 1, dtype = np.integer)\n",
    "    for i in range(length):\n",
    "        C[A[i]] += 1\n",
    "    for i in range(k):\n",
    "        C[i + 1] += C[i]\n",
    "    for i in reversed(range(length)):\n",
    "        B[C[A[i]] - 1] = A[i]\n",
    "        C[A[i] ] -= 1"
   ]
  },
  {
   "attachments": {},
   "cell_type": "markdown",
   "metadata": {},
   "source": [
    "## Funzioni di Test\n",
    "\n",
    "### Generazione di un Array Random\n",
    "Questa funzione ci serve per generare un vettore di una determinata funzione che contenga valori casuali. Questa riceve anche un numero massimo che indica fino a che valore i numeri random possono essere generati. Successivamente è presente una istruzione che ci garantisce la presenza di almeno in una cella del massimo. Questo non sarebbe strettamente necessario, ma si è scelto di farlo proprio per evitare l'utilizzo del counting sort con grandezze sbagliate."
   ]
  },
  {
   "cell_type": "code",
   "execution_count": 3,
   "metadata": {},
   "outputs": [],
   "source": [
    "import numpy as np\n",
    "import random\n",
    "\n",
    "\n",
    "def random_array(length: int, max: int):\n",
    "    \"\"\"\n",
    "    Questa funzione genera un array (provienente dal modulo numpy) con la lunghezza \"length\" fornita e \n",
    "    contenente come numero massimo \"max\".\n",
    "    \"\"\"\n",
    "    if(length <= 0):\n",
    "        raise ValueError(\"Errore! Impossibile usare un array di dimensione %d.\" % (length))\n",
    "    array = np.zeros(length, dtype = np.integer)\n",
    "    for i in range(length):\n",
    "        array[i] = random.randint(0, max)\n",
    "    \n",
    "    array[random.randrange(0, length)] = max\n",
    "\n",
    "    return array\n",
    "\n"
   ]
  },
  {
   "attachments": {},
   "cell_type": "markdown",
   "metadata": {},
   "source": [
    "## Parametri Utilizzati\n",
    "In questa sezione sono definite tutte le variabili che verranno utilizzate per generare i vettori di test.\n",
    "\n",
    "* **Length**: si riferisce alla lunghezza massima dell'array per cui vengono fatti i test.\n",
    "* **Iter**: il numero di volte che vengono fatte le misurazioni.\n",
    "* **Interval**: la distanza in numero di elementi tra una test e l'altro.\n",
    "* **Max_1**: il numero massimo inserito all'interno degli array nel primo set di test.\n",
    "* **Max_2**: il numero massimo inserito all'interno degli array nel secondo set di test."
   ]
  },
  {
   "cell_type": "code",
   "execution_count": 4,
   "metadata": {},
   "outputs": [],
   "source": [
    "\"\"\"\n",
    "Dati che verranno utilizzati durante i test.\n",
    "\"\"\"\n",
    "\n",
    "length = 10000\n",
    "iter = 30\n",
    "interval = int(length / 100)\n",
    "max_1 = 10\n",
    "max_2 = 10000"
   ]
  },
  {
   "attachments": {},
   "cell_type": "markdown",
   "metadata": {},
   "source": [
    "La seguente funzione invece serve per generare un test, fornendogli il tipo di algortimo da usare ed il tipo di test. Oltre a questi dati si devono inserire altri valori: fino a quale valore bisogna eseguire i test, i valori massimi dentro questi array, il numero di volte per cui bisogna fare ogni volta i test e l'intervallo di distanza (in numero di ellemnti nell'array) tra un test e l'altro.\n",
    "I risultati che questa funzione genera sono 2 liste: la prima indica il numero di elementi su cui vengono fatti i test, la seconda il tempi (medi) corrispondenti."
   ]
  },
  {
   "cell_type": "code",
   "execution_count": 5,
   "metadata": {},
   "outputs": [],
   "source": [
    "import math\n",
    "from enum import IntEnum\n",
    "import matplotlib.pyplot as plt\n",
    "from timeit import default_timer as timer\n",
    "\n",
    "class algorithm_type(IntEnum):\n",
    "    Insertion = 1\n",
    "    Counting = 2\n",
    "\n",
    "class test_type(IntEnum):\n",
    "    Random = 1\n",
    "    Order = 2\n",
    "    Reverse = 3\n",
    "\n",
    "def sorting_test(algo: algorithm_type, type: test_type, length: int, iter: int, interval: int, max: int):\n",
    "    \"\"\"\n",
    "    Questa funzione permette di eseguire un particolare tipo di test su un particolare tipo di algoritmo di ordinamento.\n",
    "    I parmatri utilizzati sono i seguenti:\n",
    "    - algo: il tipo di algoritmo da testare.\n",
    "    - type: il tipo di test da eseguire.\n",
    "    - length: la lungezza massi che deve raggiunger l'array durante i test.\n",
    "    - iter: il numero di volte che bisogna esguire le misurazioni su uno specifico test.\n",
    "    - interval: la distanza in numero di elementi tra un test e l'altro.\n",
    "    - max: il numero massimo presente all'interno dell'array.\n",
    "    \"\"\"\n",
    "    \n",
    "    if(length <= 0):\n",
    "        raise ValueError(\"Errore! Impossibile usare un array di dimensione %d.\" % (length))\n",
    "    times = []\n",
    "    dimensions = list(range(length - interval * math.floor(length / interval), length + 1, interval))\n",
    "    dimensions.remove(0)\n",
    "    for i in dimensions:\n",
    "        time = 0\n",
    "        for j in range(iter):\n",
    "            argument = []\n",
    "            if(type == test_type.Random):\n",
    "                argument = random_array(length, max)\n",
    "            elif(type == test_type.Order):\n",
    "                argument = [math.floor(max * (i / length))  for i in range(1, length + 1)]\n",
    "            elif(type == test_type.Reverse):\n",
    "                argument = [math.floor(max * (i / length))  for i in range(length, 0, -1)]\n",
    "            if(algo == algorithm_type.Counting):\n",
    "                B = np.zeros(length)\n",
    "                start = timer()\n",
    "                counting_sort(argument, B, max)\n",
    "                end = timer()\n",
    "            elif(algo == algorithm_type.Insertion):\n",
    "                start = timer()\n",
    "                insertion_sort(argument)\n",
    "                end = timer()\n",
    "            time += (end - start)\n",
    "        times.append(time / iter)\n",
    "    \n",
    "    return dimensions, times"
   ]
  },
  {
   "attachments": {},
   "cell_type": "markdown",
   "metadata": {},
   "source": [
    "## Esecuzione dei test\n",
    "I segunti blocchi di codice generano i risultati dei vari test ritenuti significativi per comprendere il tempo di esecuzione di questi algoritmi."
   ]
  },
  {
   "cell_type": "code",
   "execution_count": 6,
   "metadata": {},
   "outputs": [
    {
     "name": "stderr",
     "output_type": "stream",
     "text": [
      "/tmp/ipykernel_3267/2283692762.py:12: DeprecationWarning: Converting `np.integer` or `np.signedinteger` to a dtype is deprecated. The current result is `np.dtype(np.int_)` which is not strictly correct. Note that the result depends on the system. To ensure stable results use may want to use `np.int64` or `np.int32`.\n",
      "  array = np.zeros(length, dtype = np.integer)\n",
      "/tmp/ipykernel_3267/1488679872.py:9: DeprecationWarning: Converting `np.integer` or `np.signedinteger` to a dtype is deprecated. The current result is `np.dtype(np.int_)` which is not strictly correct. Note that the result depends on the system. To ensure stable results use may want to use `np.int64` or `np.int32`.\n",
      "  C = np.zeros(k + 1, dtype = np.integer)\n"
     ]
    },
    {
     "data": {
      "image/png": "[encoded data removed]",
      "text/plain": [
       "<Figure size 640x480 with 1 Axes>"
      ]
     },
     "metadata": {},
     "output_type": "display_data"
    }
   ],
   "source": [
    "from Funzioni_per_Grafici import *\n",
    "\n",
    "x_counting, y_counting = sorting_test(algorithm_type.Counting, test_type.Random, length, iter, interval, max_1)\n",
    "create_function_plot(x_counting, y_counting, \"Andamento Couting sort con array casuale\", \"Counting\", \"red\", False, annotate = False, isLog = False, x_name = \"Elementi\")\n",
    "\n",
    "#x_insertion, y_insertion = sorting_test(algorithm_type.Insertion, test_type.Random, length, iter, interval, max_1)\n",
    "#create_function_plot(x_insertion, y_insertion, \"Andamento Insertion Sort con array casuale\", \"Insertion\", \"green\", False, annotate = False, isLog = False, x_name = \"Elementi\")\n",
    "\"\"\"\n",
    "x_values = [\n",
    "    x_counting,\n",
    "    x_insertion,\n",
    "]\n",
    "\n",
    "y_values = [\n",
    "    [y_counting, \"Counting\", \"red\"],\n",
    "    [y_insertion, \"Insertion\", \"green\"],\n",
    "]\n",
    "\"\"\"\n",
    "#create_multiple_function_plot(x_values, y_values, \"Confronto tra algoritmi di ordinamento.\", False, isLog = False, x_name = \"Elementi\")\n",
    "plt.show()"
   ]
  },
  {
   "cell_type": "code",
   "execution_count": 7,
   "metadata": {},
   "outputs": [
    {
     "name": "stdout",
     "output_type": "stream",
     "text": [
      "0.007054151000147613\n",
      "0.0007390550001673546\n",
      "0.004201628000146229\n",
      "0.1338373710000269\n"
     ]
    },
    {
     "name": "stderr",
     "output_type": "stream",
     "text": [
      "/tmp/ipykernel_3267/2283692762.py:12: DeprecationWarning: Converting `np.integer` or `np.signedinteger` to a dtype is deprecated. The current result is `np.dtype(np.int_)` which is not strictly correct. Note that the result depends on the system. To ensure stable results use may want to use `np.int64` or `np.int32`.\n",
      "  array = np.zeros(length, dtype = np.integer)\n",
      "/tmp/ipykernel_3267/1488679872.py:9: DeprecationWarning: Converting `np.integer` or `np.signedinteger` to a dtype is deprecated. The current result is `np.dtype(np.int_)` which is not strictly correct. Note that the result depends on the system. To ensure stable results use may want to use `np.int64` or `np.int32`.\n",
      "  C = np.zeros(k + 1, dtype = np.integer)\n"
     ]
    }
   ],
   "source": [
    "l = 1000\n",
    "m = 1000\n",
    "\n",
    "start = timer()\n",
    "array = random_array(l, m)\n",
    "end = timer()\n",
    "print(end - start)\n",
    "\n",
    "start = timer()\n",
    "sorted(array)\n",
    "end = timer()\n",
    "print(end - start)\n",
    "\n",
    "B = np.zeros(l)\n",
    "start = timer()\n",
    "counting_sort(array, B, m)\n",
    "end = timer()\n",
    "print(end - start)\n",
    "\n",
    "start = timer()\n",
    "insertion_sort(array)\n",
    "end = timer()\n",
    "print(end - start)\n",
    "\n"
   ]
  }
 ],
 "metadata": {
  "kernelspec": {
   "display_name": "Python 3 (ipykernel)",
   "language": "python",
   "name": "python3"
  },
  "language_info": {
   "codemirror_mode": {
    "name": "ipython",
    "version": 3
   },
   "file_extension": ".py",
   "mimetype": "text/x-python",
   "name": "python",
   "nbconvert_exporter": "python",
   "pygments_lexer": "ipython3",
   "version": "3.10.6"
  }
 },
 "nbformat": 4,
 "nbformat_minor": 2
}
