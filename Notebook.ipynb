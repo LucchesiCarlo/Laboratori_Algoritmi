{
 "cells": [
  {
   "cell_type": "code",
   "execution_count": 13,
   "metadata": {},
   "outputs": [],
   "source": [
    "import matplotlib.pyplot as plt\n",
    "import random\n",
    "from timeit import default_timer as timer\n",
    "from enum import IntEnum\n",
    "import math\n",
    "import numpy as np\n",
    "\n",
    "from Codice.Sorting_Algorithm import *\n",
    "from Fancy_Output import *\n",
    "from Funzioni_per_Grafici import *\n",
    "\n",
    "length = 10000000\n",
    "iter = 5\n",
    "interval = 50000\n",
    "max_1 = 100\n",
    "max_2 = 10000"
   ]
  },
  {
   "cell_type": "code",
   "execution_count": 14,
   "metadata": {},
   "outputs": [],
   "source": [
    "from numpy import integer\n",
    "\n",
    "\n",
    "def random_array(length: int, max: int):\n",
    "    if(length <= 0):\n",
    "        raise ValueError(\"Errore! Impossibile usare un array di dimensione %d.\" % (length))\n",
    "    array = np.zeros(length, dtype = integer)\n",
    "    for i in range(length):\n",
    "        array[i] = random.randint(0, max)\n",
    "    \n",
    "    array[random.randrange(0, length)] = max\n",
    "\n",
    "    return array\n",
    "\n"
   ]
  },
  {
   "attachments": {},
   "cell_type": "markdown",
   "metadata": {},
   "source": [
    "Prova"
   ]
  },
  {
   "cell_type": "code",
   "execution_count": 15,
   "metadata": {},
   "outputs": [],
   "source": [
    "class algorithm_type(IntEnum):\n",
    "    Insertion = 1\n",
    "    Counting = 2\n",
    "\n",
    "class test_type(IntEnum):\n",
    "    Random = 1\n",
    "    Order = 2\n",
    "    Reverse = 3\n",
    "\n",
    "def sorting_test(algo: algorithm_type, type: test_type, length: int, iter: int, interval: int, max: int):\n",
    "    if(length <= 0):\n",
    "        raise ValueError(\"Errore! Impossibile usare un array di dimensione %d.\" % (length))\n",
    "    times = []\n",
    "    dimensions = list(range(length - interval * math.floor(length / interval), length + 1, interval))\n",
    "    for i in dimensions:\n",
    "        if(i != 0):\n",
    "            argument = []\n",
    "            if(type == test_type.Random):\n",
    "                argument = random_array(length, max)\n",
    "            elif(type == test_type.Order):\n",
    "                argument = [math.floor(max * (i / length))  for i in range(1, length + 1)]\n",
    "            elif(type == test_type.Reverse):\n",
    "                argument = [math.floor(max * (i / length))  for i in range(length, 0, -1)]\n",
    "            for j in range(iter):\n",
    "                time = 0\n",
    "                if(algo == algorithm_type.Counting):\n",
    "                    B = np.zeros(length)\n",
    "                    start = timer()\n",
    "                    standard_counting_sort(argument, B, max)\n",
    "                    end = timer()\n",
    "                elif(algo == algorithm_type.Insertion):\n",
    "                    start = timer()\n",
    "                    insertion_sort(argument)\n",
    "                    end = timer()\n",
    "                time += (end - start) * 1000\n",
    "            times.append(time / iter)\n",
    "        else:\n",
    "            times.append(0)\n",
    "    \n",
    "    return dimensions, times"
   ]
  },
  {
   "cell_type": "code",
   "execution_count": null,
   "metadata": {},
   "outputs": [],
   "source": [
    "x_counting, y_counting = sorting_test(algorithm_type.Counting, test_type.Random, length, iter, interval, max_1)\n",
    "create_function_plot(x_counting, y_counting, \"Andamento Couting sort con array casuale\", \"Counting\", \"red\", False, annotate = False, isLog = False, x_name = \"Elementi\")\n",
    "\n",
    "x_insertion, y_insertion = sorting_test(algorithm_type.Counting, test_type.Random, length, iter, interval, max_1)\n",
    "create_function_plot(x_insertion, y_insertion, \"Andamento Insertion Sort con array casuale\", \"Counting\", \"green\", False, annotate = False, isLog = False, x_name = \"Elementi\")\n",
    "\n",
    "x_values = [\n",
    "    x_counting,\n",
    "    x_insertion,\n",
    "]\n",
    "\n",
    "y_values = [\n",
    "    [y_counting, \"Counting\", \"red\"],\n",
    "    [y_insertion, \"Insertion\", \"green\"],\n",
    "]\n",
    "\n",
    "create_multiple_function_plot(x_values, y_values, \"Confronto tra algoritmi di ordinamento.\", False, isLog = False, x_name = \"Elementi\")\n",
    "plt.show()"
   ]
  }
 ],
 "metadata": {
  "kernelspec": {
   "display_name": "Python 3 (ipykernel)",
   "language": "python",
   "name": "python3"
  },
  "language_info": {
   "codemirror_mode": {
    "name": "ipython",
    "version": 3
   },
   "file_extension": ".py",
   "mimetype": "text/x-python",
   "name": "python",
   "nbconvert_exporter": "python",
   "pygments_lexer": "ipython3",
   "version": "3.10.6"
  }
 },
 "nbformat": 4,
 "nbformat_minor": 2
}
